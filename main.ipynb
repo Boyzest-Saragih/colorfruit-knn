{
 "cells": [
  {
   "cell_type": "markdown",
   "id": "c93453ab",
   "metadata": {},
   "source": [
    "\n",
    "# Pembagian Tugas Fruit Color Classifier Tim The 404 Brain\n",
    "\n",
    "1. **Enjel Boyzset Saragih**\n",
    "    - Initial library\n",
    "    - Pengumpulan dataset\n",
    "    - Simpan model\n",
    "    - Deploy model untuk digunakan di website\n",
    "\n",
    "2. **Rifky Ghifari Siregar**\n",
    "    - Latih model KNN dari library sklearn\n",
    "    - Visualisasi hasil pelatihan antara custom KNN dan sklearn\n",
    "    - Pembuatan UI Website\n",
    "\n",
    "3. **Dedi Sanjaya Nainggolan**\n",
    "    - Persiapan dataset\n",
    "    - Extrak Gambar ke HSV\n",
    "    - Hitung HSV mean dan standard deviasi\n",
    "    - simpan mean dan std hsv ke dataframe\n",
    "\n",
    "4. **Indra Jeremia Tinambunan**\n",
    "    - normalisasi Data\n",
    "    - Implementasi custom KNN"
   ]
  },
  {
   "cell_type": "markdown",
   "id": "9ab9d89c-e95a-45f4-8239-b6f10adfca22",
   "metadata": {},
   "source": [
    "# Install Requirements\n",
    "\n",
    "- numpy\n",
    "- opencv-python\n",
    "- scikit-learn\n",
    "- pandas\n",
    "- matplotlib\n",
    "- seaborn\n"
   ]
  },
  {
   "cell_type": "code",
   "execution_count": null,
   "id": "ef3147aa-c173-4482-a6ea-fe90dd796c14",
   "metadata": {},
   "outputs": [],
   "source": [
    "# IF Run in vscode\n",
    "%pip install numpy opencv-python scikit-learn pandas matplotlib seaborn\n",
    "\n",
    "# IF Run in Juypyter notebook or google collab\n",
    "# !pip install numpy opencv-python scikit-learn pandas matplotlib seaborn"
   ]
  },
  {
   "cell_type": "markdown",
   "id": "b2043d5a-e8e8-4e07-b2ef-f9746df143bd",
   "metadata": {},
   "source": [
    "# Import Library\n"
   ]
  },
  {
   "cell_type": "code",
   "execution_count": 15,
   "id": "4aa62975-fad7-40bc-a523-fc4df02467ba",
   "metadata": {},
   "outputs": [],
   "source": [
    "import cv2 \n",
    "import numpy as np\n",
    "import pandas as pd\n",
    "import os\n",
    "from collections import Counter\n",
    "from sklearn.neighbors import KNeighborsClassifier\n",
    "from sklearn.preprocessing import MinMaxScaler\n",
    "from sklearn.metrics import classification_report, confusion_matrix, accuracy_score\n",
    "import matplotlib.pyplot as plt\n",
    "import seaborn as sns\n",
    "import joblib\n"
   ]
  },
  {
   "cell_type": "markdown",
   "id": "39f35e54",
   "metadata": {},
   "source": [
    "# Persiapan Dataset\n",
    "\n",
    "- Extrak Gambar ke HSV\n",
    "- Hitung HSV mean dan standard deviasi\n",
    "- simapn ke dataframe\n",
    "- normalisasi"
   ]
  },
  {
   "cell_type": "code",
   "execution_count": 16,
   "id": "51aedba6",
   "metadata": {},
   "outputs": [
    {
     "name": "stdout",
     "output_type": "stream",
     "text": [
      "jumlah dataset training : \n",
      " 1635\n",
      "dataset training : \n",
      "     h_mean    s_mean    v_mean      h_std       s_std      v_std  label\n",
      "0   8.5906  120.7174  163.6420  19.046763   90.863743  72.777596  merah\n",
      "1  10.1583  119.5203  157.2010  19.331959   88.309469  74.672950  merah\n",
      "2  97.4170  155.8205  128.0427  82.846791  109.605216  78.080519  merah\n",
      "3  99.5235  155.7501  128.3340  82.385385  109.434309  77.960796  merah\n",
      "4  99.5284  155.6957  128.2147  82.341211  109.441080  78.036784  merah\n",
      "\n",
      "jumlah dataset testing : \n",
      " 61\n",
      "dataset test : \n",
      "     h_mean    s_mean    v_mean      h_std      s_std      v_std  label\n",
      "0  15.1292  128.0454  163.5837  41.459027  95.341925  69.774593  merah\n",
      "1   8.4293  122.2862  165.5620  22.399179  93.224777  71.068588  merah\n",
      "2   8.3884  122.0738  165.1051  21.124094  93.140811  71.704921  merah\n",
      "3   8.0876  121.7220  165.1785  19.092950  92.852703  72.036717  merah\n",
      "4   7.8957  121.3605  164.5594  17.895341  92.354522  72.528989  merah\n",
      "hasil scaled : \n",
      " [[0.0272666  0.63113591 0.4869508  0.10968075 0.70499908 0.57100314]\n",
      " [0.04047118 0.62298454 0.44553365 0.11358046 0.66909141 0.59687522]\n",
      " [0.7754422  0.87016227 0.25803892 0.98207053 0.96846442 0.64338945]\n",
      " [0.79318503 0.8696829  0.25991205 0.97576136 0.96606184 0.64175519]\n",
      " [0.79322631 0.86931248 0.25914492 0.97515733 0.96615701 0.64279245]]\n",
      "Rentang features: 0.0 1.0000000000000002\n"
     ]
    }
   ],
   "source": [
    "data_train = os.path.join(\"./dataset\",\"training\")\n",
    "data_test = os.path.join(\"./dataset\",\"test\")\n",
    "\n",
    "\n",
    "def exractToHSV(img):\n",
    "    image = cv2.imread(img)\n",
    "    img_hsv = cv2.cvtColor(image, cv2.COLOR_BGR2HSV)\n",
    "    h_mean = np.mean(img_hsv[:,:,0])\n",
    "    s_mean = np.mean(img_hsv[:,:,1])\n",
    "    v_mean = np.mean(img_hsv[:,:,2])\n",
    "    h_std = np.std(img_hsv[:,:,0])\n",
    "    s_std = np.std(img_hsv[:,:,1])\n",
    "    v_std = np.std(img_hsv[:,:,2])\n",
    "    return [h_mean,s_mean, v_mean,h_std,s_std,v_std]\n",
    "\n",
    "\n",
    "def loadData(path, classes):\n",
    "    features = []\n",
    "    label = []\n",
    "\n",
    "    for kelas in classes:\n",
    "        path_kelas = os.path.join(path,kelas)\n",
    "        for img_name in os.listdir(path_kelas):\n",
    "            img_path = os.path.join(path_kelas,img_name)\n",
    "            img_extract = exractToHSV(img_path)\n",
    "            features.append(img_extract)\n",
    "            label.append(kelas)\n",
    "\n",
    "    df = pd.DataFrame(features, columns=['h_mean','s_mean','v_mean','h_std','s_std','v_std'])\n",
    "    df['label'] = label\n",
    "    return df\n",
    "\n",
    "\n",
    "classes = ['merah','kuning','hijau']\n",
    "\n",
    "df_train = loadData(data_train, classes)\n",
    "df_test = loadData(data_test, classes)\n",
    "\n",
    "\n",
    "print(\"jumlah dataset training : \\n\", len(df_train))\n",
    "print(\"dataset training : \\n\", df_train.head(5))\n",
    "print()\n",
    "print(\"jumlah dataset testing : \\n\", len(df_test))\n",
    "print(\"dataset test : \\n\", df_test.head(5))\n",
    "\n",
    "\n",
    "features_train = df_train[['h_mean','s_mean','v_mean','h_std','s_std','v_std']]\n",
    "label_train = df_train['label']\n",
    "\n",
    "features_test = df_test[['h_mean','s_mean','v_mean','h_std','s_std','v_std']]\n",
    "label_test = df_test['label']\n",
    "\n",
    "# Normalisasi\n",
    "scaler = MinMaxScaler()\n",
    "features_train_scaled = scaler.fit_transform(features_train)\n",
    "features_test_scaled = scaler.transform(features_test)\n",
    "\n",
    "\n",
    "print(\"hasil scaled : \\n\",features_train_scaled[:5])\n",
    "print(\"Rentang features:\", features_train_scaled.min(), features_train_scaled.max())"
   ]
  },
  {
   "cell_type": "markdown",
   "id": "d306c615",
   "metadata": {},
   "source": [
    "# Proses Model\n",
    "\n",
    "- Train model KNN.\n",
    "- Evaluasi model dengan menghitung akurasi.\n",
    "- Visualisasi Hasil."
   ]
  },
  {
   "cell_type": "code",
   "execution_count": null,
   "id": "078def5f",
   "metadata": {},
   "outputs": [
    {
     "name": "stdout",
     "output_type": "stream",
     "text": [
      "Model Accuracy :  0.9672131147540983\n",
      "Model Classification report : \n",
      "              precision    recall  f1-score   support\n",
      "\n",
      "       hijau       1.00      1.00      1.00        20\n",
      "      kuning       1.00      0.90      0.95        20\n",
      "       merah       0.91      1.00      0.95        21\n",
      "\n",
      "    accuracy                           0.97        61\n",
      "   macro avg       0.97      0.97      0.97        61\n",
      "weighted avg       0.97      0.97      0.97        61\n",
      "\n",
      "[[20  0  0]\n",
      " [ 0 18  2]\n",
      " [ 0  0 21]]\n",
      "\n",
      "Scikit-learn KNN Accuracy: 0.9672131147540983\n",
      "Scikit-learn KNN Classification Report:\n",
      "               precision    recall  f1-score   support\n",
      "\n",
      "       hijau       1.00      1.00      1.00        20\n",
      "      kuning       1.00      0.90      0.95        20\n",
      "       merah       0.91      1.00      0.95        21\n",
      "\n",
      "    accuracy                           0.97        61\n",
      "   macro avg       0.97      0.97      0.97        61\n",
      "weighted avg       0.97      0.97      0.97        61\n",
      "\n",
      "[[20  0  0]\n",
      " [ 0 18  2]\n",
      " [ 0  0 21]]\n"
     ]
    }
   ],
   "source": [
    "class KNN ():\n",
    "    def __init__(self, k, X_train_scaled, Y_train):\n",
    "        self.k = k\n",
    "        self.X_train = np.array(X_train_scaled)\n",
    "        self.Y_train = np.array(Y_train)\n",
    "\n",
    "    def euclidean_distance(self, x1, x2):\n",
    "        return np.sqrt(np.sum((x1-x2)**2))\n",
    "    \n",
    "    def predict (self, X_test):\n",
    "        X_test = np.array(X_test)\n",
    "        predictions = []\n",
    "        for x in X_test:\n",
    "            distances = [self.euclidean_distance(x, x_train) for x_train in self.X_train]\n",
    "            k_indices = np.argsort(distances)[:self.k]\n",
    "            k_labels = [self.Y_train[i]for i in k_indices]\n",
    "            most_common = Counter(k_labels).most_common(1)[0][0]\n",
    "            predictions.append(most_common)\n",
    "        return np.array(predictions)\n",
    "        \n",
    "\n",
    "knn = KNN(5,features_train_scaled,label_train)\n",
    "pred = knn.predict(features_test_scaled)\n",
    "\n",
    "\n",
    "\n",
    "# SKLERN\n",
    "knn_sklearn = KNeighborsClassifier(n_neighbors=5)\n",
    "knn_sklearn.fit(features_train_scaled, label_train)\n",
    "pred_sklearn = knn_sklearn.predict(features_test_scaled)\n",
    "\n",
    "\n",
    "print(\"Model Accuracy : \",accuracy_score(label_test, pred))\n",
    "print(f\"Model Classification report : \\n{classification_report(label_test, pred)}\")\n",
    "cm = confusion_matrix(label_test, pred)\n",
    "print(cm)\n",
    "\n",
    "\n",
    "print()\n",
    "\n",
    "\n",
    "print(\"Scikit-learn KNN Accuracy:\", accuracy_score(label_test, pred_sklearn))\n",
    "print(\"Scikit-learn KNN Classification Report:\\n\", classification_report(label_test, pred_sklearn))\n",
    "\n",
    "classes = ['hijau', 'kuning', 'merah']\n",
    "cm_sklearn = confusion_matrix(label_test, pred_sklearn, labels=classes)\n",
    "print(cm_sklearn)\n"
   ]
  },
  {
   "cell_type": "code",
   "execution_count": 18,
   "id": "d10d628b",
   "metadata": {},
   "outputs": [
    {
     "data": {
      "image/png": "[encoded data removed]",
      "text/plain": [
       "<Figure size 1400x600 with 2 Axes>"
      ]
     },
     "metadata": {},
     "output_type": "display_data"
    }
   ],
   "source": [
    "fig, axes = plt.subplots(1, 2, figsize=(14, 6))\n",
    "\n",
    "# Custom KNN\n",
    "sns.heatmap(cm, annot=True, fmt='d', cmap='Blues', cbar=False,\n",
    "            ax=axes[0], xticklabels=['hijau', 'kuning', 'merah'], yticklabels=['hijau', 'kuning', 'merah'])\n",
    "axes[0].set_title('Custom KNN Confusion Matrix')\n",
    "axes[0].set_xlabel('Predicted')\n",
    "axes[0].set_ylabel('True')\n",
    "\n",
    "# Sklearn KNN\n",
    "sns.heatmap(cm_sklearn, annot=True, fmt='d', cmap='Greens', cbar=False,\n",
    "            ax=axes[1], xticklabels=['hijau', 'kuning', 'merah'], yticklabels=['hijau', 'kuning', 'merah'])\n",
    "axes[1].set_title('Sklearn KNN Confusion Matrix')\n",
    "axes[1].set_xlabel('Predicted')\n",
    "axes[1].set_ylabel('True')\n",
    "\n",
    "plt.tight_layout()\n",
    "plt.show()"
   ]
  },
  {
   "cell_type": "markdown",
   "id": "7f307dd5",
   "metadata": {},
   "source": [
    "# Simpan Model"
   ]
  },
  {
   "cell_type": "code",
   "execution_count": 19,
   "id": "a258b8f0",
   "metadata": {},
   "outputs": [],
   "source": [
    "joblib.dump(knn_sklearn, './model/knn_model.pkl')\n",
    "joblib.dump(scaler, './model/scaler.pkl')\n",
    "\n",
    "\n",
    "knn_loaded = joblib.load('./model/knn_model.pkl')\n",
    "scaler_loaded = joblib.load('./model/scaler.pkl')\n"
   ]
  }
 ],
 "metadata": {
  "kernelspec": {
   "display_name": "Python 3",
   "language": "python",
   "name": "python3"
  },
  "language_info": {
   "codemirror_mode": {
    "name": "ipython",
    "version": 3
   },
   "file_extension": ".py",
   "mimetype": "text/x-python",
   "name": "python",
   "nbconvert_exporter": "python",
   "pygments_lexer": "ipython3",
   "version": "3.11.9"
  }
 },
 "nbformat": 4,
 "nbformat_minor": 5
}
